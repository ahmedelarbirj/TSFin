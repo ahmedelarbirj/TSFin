{
  "nbformat": 4,
  "nbformat_minor": 0,
  "metadata": {
    "colab": {
      "provenance": [],
      "collapsed_sections": [],
      "authorship_tag": "ABX9TyNzuAONqFqq43s9XQ9+X+F5",
      "include_colab_link": true
    },
    "kernelspec": {
      "name": "python3",
      "display_name": "Python 3"
    },
    "language_info": {
      "name": "python"
    },
    "gpuClass": "standard"
  },
  "cells": [
    {
      "cell_type": "markdown",
      "metadata": {
        "id": "view-in-github",
        "colab_type": "text"
      },
      "source": [
        "<a href=\"https://colab.research.google.com/github/ahmedelarbirj/TSFin/blob/main/Copy_of_lstm_univari%C3%A9_S%26P500.ipynb\" target=\"_parent\"><img src=\"https://colab.research.google.com/assets/colab-badge.svg\" alt=\"Open In Colab\"/></a>"
      ]
    },
    {
      "cell_type": "code",
      "execution_count": null,
      "metadata": {
        "id": "FKKtjb4RaopA"
      },
      "outputs": [],
      "source": [
        "\n",
        "import numpy as np\n",
        "import pandas as pd\n",
        "from keras.layers.core import Dense, Activation, Dropout\n",
        "from keras.layers.recurrent import LSTM\n",
        "from keras.models import Sequential\n",
        "from sklearn.preprocessing import MinMaxScaler\n",
        "import matplotlib.pyplot as plt\n"
      ]
    },
    {
      "cell_type": "code",
      "source": [
        "from datetime import date, timedelta, datetime\n",
        "!pip install yfinance\n",
        "import yfinance as yf\n",
        "# Setting the timeframe for the data extraction\n",
        "end_date =  '2022-08-21'\n",
        "start_date = '2007-01-01'\n",
        "\n",
        "# Getting S&P500 quotes\n",
        "stockname = 'S&P500'\n",
        "symbol = '^GSPC'\n",
        "\n",
        "# You can either use webreader or yfinance to load the data from yahoo finance\n",
        "# import pandas_datareader as webreader\n",
        "# df = webreader.DataReader(symbol, start=start_date, end=end_date, data_source=\"yahoo\")\n",
        "\n",
        "dataset = yf.download(symbol, start=start_date, end=end_date)\n",
        "# Quick overview of dataset\n",
        "dataset.head()"
      ],
      "metadata": {
        "colab": {
          "base_uri": "https://localhost:8080/",
          "height": 742
        },
        "id": "cGpvzgUHbgFg",
        "outputId": "ada46564-5891-4289-dc33-e8f43a3457fa"
      },
      "execution_count": null,
      "outputs": [
        {
          "output_type": "stream",
          "name": "stdout",
          "text": [
            "Looking in indexes: https://pypi.org/simple, https://us-python.pkg.dev/colab-wheels/public/simple/\n",
            "Collecting yfinance\n",
            "  Downloading yfinance-0.1.74-py2.py3-none-any.whl (27 kB)\n",
            "Collecting requests>=2.26\n",
            "  Downloading requests-2.28.1-py3-none-any.whl (62 kB)\n",
            "\u001b[K     |████████████████████████████████| 62 kB 1.1 MB/s \n",
            "\u001b[?25hRequirement already satisfied: pandas>=0.24.0 in /usr/local/lib/python3.7/dist-packages (from yfinance) (1.3.5)\n",
            "Requirement already satisfied: numpy>=1.15 in /usr/local/lib/python3.7/dist-packages (from yfinance) (1.21.6)\n",
            "Requirement already satisfied: multitasking>=0.0.7 in /usr/local/lib/python3.7/dist-packages (from yfinance) (0.0.11)\n",
            "Requirement already satisfied: lxml>=4.5.1 in /usr/local/lib/python3.7/dist-packages (from yfinance) (4.9.1)\n",
            "Requirement already satisfied: pytz>=2017.3 in /usr/local/lib/python3.7/dist-packages (from pandas>=0.24.0->yfinance) (2022.2.1)\n",
            "Requirement already satisfied: python-dateutil>=2.7.3 in /usr/local/lib/python3.7/dist-packages (from pandas>=0.24.0->yfinance) (2.8.2)\n",
            "Requirement already satisfied: six>=1.5 in /usr/local/lib/python3.7/dist-packages (from python-dateutil>=2.7.3->pandas>=0.24.0->yfinance) (1.15.0)\n",
            "Requirement already satisfied: idna<4,>=2.5 in /usr/local/lib/python3.7/dist-packages (from requests>=2.26->yfinance) (2.10)\n",
            "Requirement already satisfied: charset-normalizer<3,>=2 in /usr/local/lib/python3.7/dist-packages (from requests>=2.26->yfinance) (2.1.1)\n",
            "Requirement already satisfied: urllib3<1.27,>=1.21.1 in /usr/local/lib/python3.7/dist-packages (from requests>=2.26->yfinance) (1.24.3)\n",
            "Requirement already satisfied: certifi>=2017.4.17 in /usr/local/lib/python3.7/dist-packages (from requests>=2.26->yfinance) (2022.6.15)\n",
            "Installing collected packages: requests, yfinance\n",
            "  Attempting uninstall: requests\n",
            "    Found existing installation: requests 2.23.0\n",
            "    Uninstalling requests-2.23.0:\n",
            "      Successfully uninstalled requests-2.23.0\n",
            "Successfully installed requests-2.28.1 yfinance-0.1.74\n"
          ]
        },
        {
          "output_type": "display_data",
          "data": {
            "application/vnd.colab-display-data+json": {
              "pip_warning": {
                "packages": [
                  "requests"
                ]
              }
            }
          },
          "metadata": {}
        },
        {
          "output_type": "stream",
          "name": "stdout",
          "text": [
            "\r[*********************100%***********************]  1 of 1 completed\n"
          ]
        },
        {
          "output_type": "execute_result",
          "data": {
            "text/plain": [
              "                   Open         High          Low        Close    Adj Close  \\\n",
              "Date                                                                          \n",
              "2007-01-03  1418.030029  1429.420044  1407.859985  1416.599976  1416.599976   \n",
              "2007-01-04  1416.599976  1421.839966  1408.430054  1418.339966  1418.339966   \n",
              "2007-01-05  1418.339966  1418.339966  1405.750000  1409.709961  1409.709961   \n",
              "2007-01-08  1409.260010  1414.979980  1403.969971  1412.839966  1412.839966   \n",
              "2007-01-09  1412.839966  1415.609985  1405.420044  1412.109985  1412.109985   \n",
              "\n",
              "                Volume  \n",
              "Date                    \n",
              "2007-01-03  3429160000  \n",
              "2007-01-04  3004460000  \n",
              "2007-01-05  2919400000  \n",
              "2007-01-08  2763340000  \n",
              "2007-01-09  3038380000  "
            ],
            "text/html": [
              "\n",
              "  <div id=\"df-3cfa25cb-8bcf-46c6-bdce-52d60b1b41d7\">\n",
              "    <div class=\"colab-df-container\">\n",
              "      <div>\n",
              "<style scoped>\n",
              "    .dataframe tbody tr th:only-of-type {\n",
              "        vertical-align: middle;\n",
              "    }\n",
              "\n",
              "    .dataframe tbody tr th {\n",
              "        vertical-align: top;\n",
              "    }\n",
              "\n",
              "    .dataframe thead th {\n",
              "        text-align: right;\n",
              "    }\n",
              "</style>\n",
              "<table border=\"1\" class=\"dataframe\">\n",
              "  <thead>\n",
              "    <tr style=\"text-align: right;\">\n",
              "      <th></th>\n",
              "      <th>Open</th>\n",
              "      <th>High</th>\n",
              "      <th>Low</th>\n",
              "      <th>Close</th>\n",
              "      <th>Adj Close</th>\n",
              "      <th>Volume</th>\n",
              "    </tr>\n",
              "    <tr>\n",
              "      <th>Date</th>\n",
              "      <th></th>\n",
              "      <th></th>\n",
              "      <th></th>\n",
              "      <th></th>\n",
              "      <th></th>\n",
              "      <th></th>\n",
              "    </tr>\n",
              "  </thead>\n",
              "  <tbody>\n",
              "    <tr>\n",
              "      <th>2007-01-03</th>\n",
              "      <td>1418.030029</td>\n",
              "      <td>1429.420044</td>\n",
              "      <td>1407.859985</td>\n",
              "      <td>1416.599976</td>\n",
              "      <td>1416.599976</td>\n",
              "      <td>3429160000</td>\n",
              "    </tr>\n",
              "    <tr>\n",
              "      <th>2007-01-04</th>\n",
              "      <td>1416.599976</td>\n",
              "      <td>1421.839966</td>\n",
              "      <td>1408.430054</td>\n",
              "      <td>1418.339966</td>\n",
              "      <td>1418.339966</td>\n",
              "      <td>3004460000</td>\n",
              "    </tr>\n",
              "    <tr>\n",
              "      <th>2007-01-05</th>\n",
              "      <td>1418.339966</td>\n",
              "      <td>1418.339966</td>\n",
              "      <td>1405.750000</td>\n",
              "      <td>1409.709961</td>\n",
              "      <td>1409.709961</td>\n",
              "      <td>2919400000</td>\n",
              "    </tr>\n",
              "    <tr>\n",
              "      <th>2007-01-08</th>\n",
              "      <td>1409.260010</td>\n",
              "      <td>1414.979980</td>\n",
              "      <td>1403.969971</td>\n",
              "      <td>1412.839966</td>\n",
              "      <td>1412.839966</td>\n",
              "      <td>2763340000</td>\n",
              "    </tr>\n",
              "    <tr>\n",
              "      <th>2007-01-09</th>\n",
              "      <td>1412.839966</td>\n",
              "      <td>1415.609985</td>\n",
              "      <td>1405.420044</td>\n",
              "      <td>1412.109985</td>\n",
              "      <td>1412.109985</td>\n",
              "      <td>3038380000</td>\n",
              "    </tr>\n",
              "  </tbody>\n",
              "</table>\n",
              "</div>\n",
              "      <button class=\"colab-df-convert\" onclick=\"convertToInteractive('df-3cfa25cb-8bcf-46c6-bdce-52d60b1b41d7')\"\n",
              "              title=\"Convert this dataframe to an interactive table.\"\n",
              "              style=\"display:none;\">\n",
              "        \n",
              "  <svg xmlns=\"http://www.w3.org/2000/svg\" height=\"24px\"viewBox=\"0 0 24 24\"\n",
              "       width=\"24px\">\n",
              "    <path d=\"M0 0h24v24H0V0z\" fill=\"none\"/>\n",
              "    <path d=\"M18.56 5.44l.94 2.06.94-2.06 2.06-.94-2.06-.94-.94-2.06-.94 2.06-2.06.94zm-11 1L8.5 8.5l.94-2.06 2.06-.94-2.06-.94L8.5 2.5l-.94 2.06-2.06.94zm10 10l.94 2.06.94-2.06 2.06-.94-2.06-.94-.94-2.06-.94 2.06-2.06.94z\"/><path d=\"M17.41 7.96l-1.37-1.37c-.4-.4-.92-.59-1.43-.59-.52 0-1.04.2-1.43.59L10.3 9.45l-7.72 7.72c-.78.78-.78 2.05 0 2.83L4 21.41c.39.39.9.59 1.41.59.51 0 1.02-.2 1.41-.59l7.78-7.78 2.81-2.81c.8-.78.8-2.07 0-2.86zM5.41 20L4 18.59l7.72-7.72 1.47 1.35L5.41 20z\"/>\n",
              "  </svg>\n",
              "      </button>\n",
              "      \n",
              "  <style>\n",
              "    .colab-df-container {\n",
              "      display:flex;\n",
              "      flex-wrap:wrap;\n",
              "      gap: 12px;\n",
              "    }\n",
              "\n",
              "    .colab-df-convert {\n",
              "      background-color: #E8F0FE;\n",
              "      border: none;\n",
              "      border-radius: 50%;\n",
              "      cursor: pointer;\n",
              "      display: none;\n",
              "      fill: #1967D2;\n",
              "      height: 32px;\n",
              "      padding: 0 0 0 0;\n",
              "      width: 32px;\n",
              "    }\n",
              "\n",
              "    .colab-df-convert:hover {\n",
              "      background-color: #E2EBFA;\n",
              "      box-shadow: 0px 1px 2px rgba(60, 64, 67, 0.3), 0px 1px 3px 1px rgba(60, 64, 67, 0.15);\n",
              "      fill: #174EA6;\n",
              "    }\n",
              "\n",
              "    [theme=dark] .colab-df-convert {\n",
              "      background-color: #3B4455;\n",
              "      fill: #D2E3FC;\n",
              "    }\n",
              "\n",
              "    [theme=dark] .colab-df-convert:hover {\n",
              "      background-color: #434B5C;\n",
              "      box-shadow: 0px 1px 3px 1px rgba(0, 0, 0, 0.15);\n",
              "      filter: drop-shadow(0px 1px 2px rgba(0, 0, 0, 0.3));\n",
              "      fill: #FFFFFF;\n",
              "    }\n",
              "  </style>\n",
              "\n",
              "      <script>\n",
              "        const buttonEl =\n",
              "          document.querySelector('#df-3cfa25cb-8bcf-46c6-bdce-52d60b1b41d7 button.colab-df-convert');\n",
              "        buttonEl.style.display =\n",
              "          google.colab.kernel.accessAllowed ? 'block' : 'none';\n",
              "\n",
              "        async function convertToInteractive(key) {\n",
              "          const element = document.querySelector('#df-3cfa25cb-8bcf-46c6-bdce-52d60b1b41d7');\n",
              "          const dataTable =\n",
              "            await google.colab.kernel.invokeFunction('convertToInteractive',\n",
              "                                                     [key], {});\n",
              "          if (!dataTable) return;\n",
              "\n",
              "          const docLinkHtml = 'Like what you see? Visit the ' +\n",
              "            '<a target=\"_blank\" href=https://colab.research.google.com/notebooks/data_table.ipynb>data table notebook</a>'\n",
              "            + ' to learn more about interactive tables.';\n",
              "          element.innerHTML = '';\n",
              "          dataTable['output_type'] = 'display_data';\n",
              "          await google.colab.output.renderOutput(dataTable, element);\n",
              "          const docLink = document.createElement('div');\n",
              "          docLink.innerHTML = docLinkHtml;\n",
              "          element.appendChild(docLink);\n",
              "        }\n",
              "      </script>\n",
              "    </div>\n",
              "  </div>\n",
              "  "
            ]
          },
          "metadata": {},
          "execution_count": 2
        }
      ]
    },
    {
      "cell_type": "code",
      "source": [
        "sd = pd.DataFrame(dataset.Close)\n",
        "print(sd.describe())\n"
      ],
      "metadata": {
        "colab": {
          "base_uri": "https://localhost:8080/"
        },
        "id": "9E1tdzoh5R5n",
        "outputId": "2a950b6e-e027-402d-affe-dbf380c9ebdf"
      },
      "execution_count": null,
      "outputs": [
        {
          "output_type": "stream",
          "name": "stdout",
          "text": [
            "             Close\n",
            "count  3936.000000\n",
            "mean   2139.187522\n",
            "std     987.922583\n",
            "min     676.530029\n",
            "25%    1348.317505\n",
            "50%    1961.340027\n",
            "75%    2746.977600\n",
            "max    4796.560059\n"
          ]
        }
      ]
    },
    {
      "cell_type": "code",
      "source": [
        "sd.quantile(.95)"
      ],
      "metadata": {
        "colab": {
          "base_uri": "https://localhost:8080/"
        },
        "id": "GYj_KX3t8HzT",
        "outputId": "c65a81d9-7dcf-4945-9514-a06dcb4998b7"
      },
      "execution_count": null,
      "outputs": [
        {
          "output_type": "execute_result",
          "data": {
            "text/plain": [
              "Close    4297.230103\n",
              "Name: 0.95, dtype: float64"
            ]
          },
          "metadata": {},
          "execution_count": 9
        }
      ]
    },
    {
      "cell_type": "code",
      "source": [
        "close_price = dataset['Close'].values.reshape(-1,1)\n",
        "close_price"
      ],
      "metadata": {
        "colab": {
          "base_uri": "https://localhost:8080/"
        },
        "id": "qqzbZY1IbpUv",
        "outputId": "6b233c5c-633c-4860-8dec-9da7fde90556"
      },
      "execution_count": null,
      "outputs": [
        {
          "output_type": "execute_result",
          "data": {
            "text/plain": [
              "array([[1416.59997559],\n",
              "       [1418.33996582],\n",
              "       [1409.70996094],\n",
              "       ...,\n",
              "       [4274.04003906],\n",
              "       [4283.74023438],\n",
              "       [4228.47998047]])"
            ]
          },
          "metadata": {},
          "execution_count": 3
        }
      ]
    },
    {
      "cell_type": "code",
      "source": [
        "int(len(close_price) *0.2)"
      ],
      "metadata": {
        "colab": {
          "base_uri": "https://localhost:8080/"
        },
        "id": "a5SFOmgp8IG5",
        "outputId": "150806a3-7197-4d84-bbcc-ba5d6090f4fe"
      },
      "execution_count": null,
      "outputs": [
        {
          "output_type": "execute_result",
          "data": {
            "text/plain": [
              "787"
            ]
          },
          "metadata": {},
          "execution_count": 6
        }
      ]
    },
    {
      "cell_type": "code",
      "source": [
        "dataset['Close'][-789:]"
      ],
      "metadata": {
        "colab": {
          "base_uri": "https://localhost:8080/"
        },
        "id": "5h62vIG_8YR9",
        "outputId": "f10eaef6-c223-45c9-e3df-87bb2da4f901"
      },
      "execution_count": null,
      "outputs": [
        {
          "output_type": "execute_result",
          "data": {
            "text/plain": [
              "Date\n",
              "2019-07-05    2990.409912\n",
              "2019-07-08    2975.949951\n",
              "2019-07-09    2979.629883\n",
              "2019-07-10    2993.070068\n",
              "2019-07-11    2999.909912\n",
              "                 ...     \n",
              "2022-08-15    4297.140137\n",
              "2022-08-16    4305.200195\n",
              "2022-08-17    4274.040039\n",
              "2022-08-18    4283.740234\n",
              "2022-08-19    4228.479980\n",
              "Name: Close, Length: 789, dtype: float64"
            ]
          },
          "metadata": {},
          "execution_count": 8
        }
      ]
    },
    {
      "cell_type": "code",
      "source": [
        "def create_datasets(dataset, sequence_length):\n",
        "  sequence_length +=1\n",
        "  seq_dataset = []\n",
        "  for i in range(len(dataset)-sequence_length):\n",
        "    seq_dataset.append(dataset[i: i+ sequence_length])\n",
        "\n",
        "  seq_dataset = np.array(seq_dataset)\n",
        "  data_x = seq_dataset[:, :-1]\n",
        "  data_y = seq_dataset[:, -1]\n",
        "  return data_x, data_y\n",
        "scaler= MinMaxScaler(feature_range=(0, 1))\n",
        "close_price_scaled = scaler.fit_transform(close_price)\n",
        "train_size = int(len(close_price_scaled) *0.8)\n",
        "#train_data_len = math.ceil(scaled_data.shape[0] * 0.8)\n",
        "test_size = len(close_price_scaled)-train_size\n",
        "train, test = close_price_scaled[0:train_size,:], close_price_scaled[train_size:len(close_price_scaled)]\n",
        "\n",
        "look_back = 30 # sequence length\n",
        "\n",
        "x_train, y_train = create_datasets(train,look_back)\n",
        "x_test, y_test = create_datasets(test,look_back)\n"
      ],
      "metadata": {
        "id": "MgSgkWu8cuGw"
      },
      "execution_count": null,
      "outputs": []
    },
    {
      "cell_type": "code",
      "source": [
        "x_train.shape"
      ],
      "metadata": {
        "colab": {
          "base_uri": "https://localhost:8080/"
        },
        "id": "RvxFWx5ZjskG",
        "outputId": "fa6511ba-2eb6-40e5-c55b-09378652e0fe"
      },
      "execution_count": null,
      "outputs": [
        {
          "output_type": "execute_result",
          "data": {
            "text/plain": [
              "(3117, 30, 1)"
            ]
          },
          "metadata": {},
          "execution_count": 5
        }
      ]
    },
    {
      "cell_type": "code",
      "source": [
        "y_test.shape"
      ],
      "metadata": {
        "colab": {
          "base_uri": "https://localhost:8080/"
        },
        "id": "qi_naU9zjwJf",
        "outputId": "2a9dcd9d-1135-476f-ee66-01d3bb9408ca"
      },
      "execution_count": null,
      "outputs": [
        {
          "output_type": "execute_result",
          "data": {
            "text/plain": [
              "(757, 1)"
            ]
          },
          "metadata": {},
          "execution_count": 6
        }
      ]
    },
    {
      "cell_type": "code",
      "source": [
        "model = Sequential()\n",
        "\n",
        "#model.add(LSTM(128,return_sequences=True))\n",
        "model.add(LSTM(50, input_shape=(x_train.shape[1],x_train.shape[2]),return_sequences=False))\n",
        "model.add(Dropout(0.35))\n",
        "model.add(Dense(1))\n",
        "model.add(Activation('linear'))\n",
        "\n",
        "model.compile(loss='mse', optimizer = 'adam')"
      ],
      "metadata": {
        "id": "PTd6ExXZkDsG"
      },
      "execution_count": null,
      "outputs": []
    },
    {
      "cell_type": "code",
      "source": [
        "history= model.fit(x_train,y_train, batch_size=64, epochs=100, verbose=2, validation_split=0.2)"
      ],
      "metadata": {
        "colab": {
          "base_uri": "https://localhost:8080/"
        },
        "id": "AKXmdxIXpJde",
        "outputId": "2ae03b52-7f5e-462f-dcd2-e62e69a707d7"
      },
      "execution_count": null,
      "outputs": [
        {
          "output_type": "stream",
          "name": "stdout",
          "text": [
            "Epoch 1/100\n",
            "39/39 - 8s - loss: 0.0054 - val_loss: 0.0014 - 8s/epoch - 201ms/step\n",
            "Epoch 2/100\n",
            "39/39 - 3s - loss: 0.0013 - val_loss: 1.2121e-04 - 3s/epoch - 78ms/step\n",
            "Epoch 3/100\n",
            "39/39 - 3s - loss: 9.0831e-04 - val_loss: 2.1325e-04 - 3s/epoch - 80ms/step\n",
            "Epoch 4/100\n",
            "39/39 - 3s - loss: 8.1851e-04 - val_loss: 1.8951e-04 - 3s/epoch - 79ms/step\n",
            "Epoch 5/100\n",
            "39/39 - 3s - loss: 7.0065e-04 - val_loss: 1.6058e-04 - 3s/epoch - 77ms/step\n",
            "Epoch 6/100\n",
            "39/39 - 3s - loss: 6.3215e-04 - val_loss: 2.0368e-04 - 3s/epoch - 79ms/step\n",
            "Epoch 7/100\n",
            "39/39 - 3s - loss: 6.2443e-04 - val_loss: 1.1002e-04 - 3s/epoch - 83ms/step\n",
            "Epoch 8/100\n",
            "39/39 - 3s - loss: 5.7617e-04 - val_loss: 1.0203e-04 - 3s/epoch - 86ms/step\n",
            "Epoch 9/100\n",
            "39/39 - 2s - loss: 5.6949e-04 - val_loss: 1.1018e-04 - 2s/epoch - 41ms/step\n",
            "Epoch 10/100\n",
            "39/39 - 1s - loss: 5.1680e-04 - val_loss: 9.5586e-05 - 1s/epoch - 37ms/step\n",
            "Epoch 11/100\n",
            "39/39 - 1s - loss: 5.2362e-04 - val_loss: 1.0469e-04 - 1s/epoch - 35ms/step\n",
            "Epoch 12/100\n",
            "39/39 - 1s - loss: 4.8472e-04 - val_loss: 2.4006e-04 - 1s/epoch - 37ms/step\n",
            "Epoch 13/100\n",
            "39/39 - 1s - loss: 4.7623e-04 - val_loss: 1.1244e-04 - 1s/epoch - 36ms/step\n",
            "Epoch 14/100\n",
            "39/39 - 1s - loss: 3.9553e-04 - val_loss: 9.6104e-05 - 1s/epoch - 35ms/step\n",
            "Epoch 15/100\n",
            "39/39 - 1s - loss: 3.7562e-04 - val_loss: 1.1891e-04 - 1s/epoch - 36ms/step\n",
            "Epoch 16/100\n",
            "39/39 - 1s - loss: 3.7326e-04 - val_loss: 1.7515e-04 - 1s/epoch - 35ms/step\n",
            "Epoch 17/100\n",
            "39/39 - 1s - loss: 3.7866e-04 - val_loss: 8.7303e-05 - 1s/epoch - 35ms/step\n",
            "Epoch 18/100\n",
            "39/39 - 1s - loss: 3.4342e-04 - val_loss: 9.0588e-05 - 1s/epoch - 36ms/step\n",
            "Epoch 19/100\n",
            "39/39 - 1s - loss: 3.2700e-04 - val_loss: 8.9175e-05 - 1s/epoch - 36ms/step\n",
            "Epoch 20/100\n",
            "39/39 - 1s - loss: 3.4378e-04 - val_loss: 8.5746e-05 - 1s/epoch - 36ms/step\n",
            "Epoch 21/100\n",
            "39/39 - 1s - loss: 3.0849e-04 - val_loss: 1.2947e-04 - 1s/epoch - 37ms/step\n",
            "Epoch 22/100\n",
            "39/39 - 1s - loss: 2.8052e-04 - val_loss: 1.7569e-04 - 1s/epoch - 37ms/step\n",
            "Epoch 23/100\n",
            "39/39 - 1s - loss: 2.7191e-04 - val_loss: 1.7178e-04 - 1s/epoch - 36ms/step\n",
            "Epoch 24/100\n",
            "39/39 - 1s - loss: 2.5273e-04 - val_loss: 8.3541e-05 - 1s/epoch - 35ms/step\n",
            "Epoch 25/100\n",
            "39/39 - 1s - loss: 2.4800e-04 - val_loss: 1.1675e-04 - 1s/epoch - 36ms/step\n",
            "Epoch 26/100\n",
            "39/39 - 1s - loss: 2.3896e-04 - val_loss: 3.1173e-04 - 1s/epoch - 37ms/step\n",
            "Epoch 27/100\n",
            "39/39 - 1s - loss: 2.4220e-04 - val_loss: 8.1968e-05 - 1s/epoch - 37ms/step\n",
            "Epoch 28/100\n",
            "39/39 - 1s - loss: 2.1207e-04 - val_loss: 1.7890e-04 - 1s/epoch - 36ms/step\n",
            "Epoch 29/100\n",
            "39/39 - 1s - loss: 2.2296e-04 - val_loss: 9.4007e-05 - 1s/epoch - 36ms/step\n",
            "Epoch 30/100\n",
            "39/39 - 1s - loss: 2.1663e-04 - val_loss: 1.5161e-04 - 1s/epoch - 35ms/step\n",
            "Epoch 31/100\n",
            "39/39 - 1s - loss: 2.0521e-04 - val_loss: 9.5758e-05 - 1s/epoch - 36ms/step\n",
            "Epoch 32/100\n",
            "39/39 - 1s - loss: 2.1227e-04 - val_loss: 8.0629e-05 - 1s/epoch - 36ms/step\n",
            "Epoch 33/100\n",
            "39/39 - 1s - loss: 1.9402e-04 - val_loss: 8.2021e-05 - 1s/epoch - 35ms/step\n",
            "Epoch 34/100\n",
            "39/39 - 1s - loss: 1.7655e-04 - val_loss: 1.1910e-04 - 1s/epoch - 36ms/step\n",
            "Epoch 35/100\n",
            "39/39 - 1s - loss: 1.6922e-04 - val_loss: 1.1970e-04 - 1s/epoch - 35ms/step\n",
            "Epoch 36/100\n",
            "39/39 - 1s - loss: 2.0414e-04 - val_loss: 8.2595e-05 - 1s/epoch - 36ms/step\n",
            "Epoch 37/100\n",
            "39/39 - 1s - loss: 1.7594e-04 - val_loss: 5.2396e-04 - 1s/epoch - 35ms/step\n",
            "Epoch 38/100\n",
            "39/39 - 1s - loss: 1.7241e-04 - val_loss: 1.0857e-04 - 1s/epoch - 36ms/step\n",
            "Epoch 39/100\n",
            "39/39 - 1s - loss: 1.6213e-04 - val_loss: 2.5355e-04 - 1s/epoch - 36ms/step\n",
            "Epoch 40/100\n",
            "39/39 - 1s - loss: 1.7460e-04 - val_loss: 1.8900e-04 - 1s/epoch - 36ms/step\n",
            "Epoch 41/100\n",
            "39/39 - 1s - loss: 1.6990e-04 - val_loss: 8.6609e-05 - 1s/epoch - 35ms/step\n",
            "Epoch 42/100\n",
            "39/39 - 1s - loss: 1.6232e-04 - val_loss: 7.9233e-05 - 1s/epoch - 36ms/step\n",
            "Epoch 43/100\n",
            "39/39 - 1s - loss: 1.6118e-04 - val_loss: 2.3732e-04 - 1s/epoch - 35ms/step\n",
            "Epoch 44/100\n",
            "39/39 - 1s - loss: 1.5816e-04 - val_loss: 7.5499e-05 - 1s/epoch - 34ms/step\n",
            "Epoch 45/100\n",
            "39/39 - 1s - loss: 1.5352e-04 - val_loss: 1.1168e-04 - 1s/epoch - 36ms/step\n",
            "Epoch 46/100\n",
            "39/39 - 1s - loss: 1.6153e-04 - val_loss: 8.5505e-05 - 1s/epoch - 36ms/step\n",
            "Epoch 47/100\n",
            "39/39 - 1s - loss: 1.5438e-04 - val_loss: 1.8729e-04 - 1s/epoch - 36ms/step\n",
            "Epoch 48/100\n",
            "39/39 - 1s - loss: 1.4812e-04 - val_loss: 7.2973e-05 - 1s/epoch - 36ms/step\n",
            "Epoch 49/100\n",
            "39/39 - 1s - loss: 1.5340e-04 - val_loss: 7.2812e-05 - 1s/epoch - 36ms/step\n",
            "Epoch 50/100\n",
            "39/39 - 1s - loss: 1.5503e-04 - val_loss: 9.4560e-05 - 1s/epoch - 35ms/step\n",
            "Epoch 51/100\n",
            "39/39 - 1s - loss: 1.5134e-04 - val_loss: 8.9380e-05 - 1s/epoch - 35ms/step\n",
            "Epoch 52/100\n",
            "39/39 - 1s - loss: 1.4350e-04 - val_loss: 1.4998e-04 - 1s/epoch - 35ms/step\n",
            "Epoch 53/100\n",
            "39/39 - 1s - loss: 1.4677e-04 - val_loss: 1.5399e-04 - 1s/epoch - 35ms/step\n",
            "Epoch 54/100\n",
            "39/39 - 1s - loss: 1.4255e-04 - val_loss: 7.5151e-05 - 1s/epoch - 35ms/step\n",
            "Epoch 55/100\n",
            "39/39 - 1s - loss: 1.4804e-04 - val_loss: 1.9280e-04 - 1s/epoch - 35ms/step\n",
            "Epoch 56/100\n",
            "39/39 - 1s - loss: 1.5003e-04 - val_loss: 8.3157e-05 - 1s/epoch - 36ms/step\n",
            "Epoch 57/100\n",
            "39/39 - 1s - loss: 1.4802e-04 - val_loss: 7.9198e-05 - 1s/epoch - 37ms/step\n",
            "Epoch 58/100\n",
            "39/39 - 1s - loss: 1.5058e-04 - val_loss: 1.3201e-04 - 1s/epoch - 36ms/step\n",
            "Epoch 59/100\n",
            "39/39 - 1s - loss: 1.4822e-04 - val_loss: 9.0757e-05 - 1s/epoch - 36ms/step\n",
            "Epoch 60/100\n",
            "39/39 - 1s - loss: 1.4701e-04 - val_loss: 7.2788e-05 - 1s/epoch - 36ms/step\n",
            "Epoch 61/100\n",
            "39/39 - 1s - loss: 1.3920e-04 - val_loss: 6.8091e-05 - 1s/epoch - 38ms/step\n",
            "Epoch 62/100\n",
            "39/39 - 1s - loss: 1.4653e-04 - val_loss: 9.8218e-05 - 1s/epoch - 35ms/step\n",
            "Epoch 63/100\n",
            "39/39 - 1s - loss: 1.4999e-04 - val_loss: 1.7924e-04 - 1s/epoch - 35ms/step\n",
            "Epoch 64/100\n",
            "39/39 - 1s - loss: 1.4122e-04 - val_loss: 7.6382e-05 - 1s/epoch - 36ms/step\n",
            "Epoch 65/100\n",
            "39/39 - 1s - loss: 1.3585e-04 - val_loss: 6.8401e-05 - 1s/epoch - 36ms/step\n",
            "Epoch 66/100\n",
            "39/39 - 1s - loss: 1.3992e-04 - val_loss: 6.6493e-05 - 1s/epoch - 36ms/step\n",
            "Epoch 67/100\n",
            "39/39 - 1s - loss: 1.3265e-04 - val_loss: 1.0308e-04 - 1s/epoch - 36ms/step\n",
            "Epoch 68/100\n",
            "39/39 - 1s - loss: 1.2604e-04 - val_loss: 6.7656e-05 - 1s/epoch - 37ms/step\n",
            "Epoch 69/100\n",
            "39/39 - 1s - loss: 1.3618e-04 - val_loss: 6.6241e-05 - 1s/epoch - 36ms/step\n",
            "Epoch 70/100\n",
            "39/39 - 1s - loss: 1.4003e-04 - val_loss: 9.5977e-05 - 1s/epoch - 36ms/step\n",
            "Epoch 71/100\n",
            "39/39 - 1s - loss: 1.4165e-04 - val_loss: 6.7582e-05 - 1s/epoch - 36ms/step\n",
            "Epoch 72/100\n",
            "39/39 - 2s - loss: 1.4617e-04 - val_loss: 1.9575e-04 - 2s/epoch - 51ms/step\n",
            "Epoch 73/100\n",
            "39/39 - 2s - loss: 1.3428e-04 - val_loss: 7.2704e-05 - 2s/epoch - 64ms/step\n",
            "Epoch 74/100\n",
            "39/39 - 1s - loss: 1.3777e-04 - val_loss: 8.8909e-05 - 1s/epoch - 35ms/step\n",
            "Epoch 75/100\n",
            "39/39 - 1s - loss: 1.3921e-04 - val_loss: 6.3857e-05 - 1s/epoch - 35ms/step\n",
            "Epoch 76/100\n",
            "39/39 - 1s - loss: 1.4416e-04 - val_loss: 9.7147e-05 - 1s/epoch - 36ms/step\n",
            "Epoch 77/100\n",
            "39/39 - 1s - loss: 1.4058e-04 - val_loss: 6.2852e-05 - 1s/epoch - 36ms/step\n",
            "Epoch 78/100\n",
            "39/39 - 1s - loss: 1.4793e-04 - val_loss: 6.2663e-05 - 1s/epoch - 37ms/step\n",
            "Epoch 79/100\n",
            "39/39 - 1s - loss: 1.3731e-04 - val_loss: 6.7532e-05 - 1s/epoch - 35ms/step\n",
            "Epoch 80/100\n",
            "39/39 - 1s - loss: 1.3444e-04 - val_loss: 6.5315e-05 - 1s/epoch - 36ms/step\n",
            "Epoch 81/100\n",
            "39/39 - 1s - loss: 1.4045e-04 - val_loss: 8.9742e-05 - 1s/epoch - 35ms/step\n",
            "Epoch 82/100\n",
            "39/39 - 1s - loss: 1.3282e-04 - val_loss: 7.8827e-05 - 1s/epoch - 36ms/step\n",
            "Epoch 83/100\n",
            "39/39 - 1s - loss: 1.3516e-04 - val_loss: 1.2847e-04 - 1s/epoch - 36ms/step\n",
            "Epoch 84/100\n",
            "39/39 - 1s - loss: 1.3481e-04 - val_loss: 6.8437e-05 - 1s/epoch - 36ms/step\n",
            "Epoch 85/100\n",
            "39/39 - 1s - loss: 1.3656e-04 - val_loss: 7.4317e-05 - 1s/epoch - 36ms/step\n",
            "Epoch 86/100\n",
            "39/39 - 1s - loss: 1.3453e-04 - val_loss: 6.0780e-05 - 1s/epoch - 36ms/step\n",
            "Epoch 87/100\n",
            "39/39 - 1s - loss: 1.2554e-04 - val_loss: 8.6448e-05 - 1s/epoch - 35ms/step\n",
            "Epoch 88/100\n",
            "39/39 - 1s - loss: 1.3654e-04 - val_loss: 1.1465e-04 - 1s/epoch - 37ms/step\n",
            "Epoch 89/100\n",
            "39/39 - 1s - loss: 1.3224e-04 - val_loss: 8.4741e-05 - 1s/epoch - 37ms/step\n",
            "Epoch 90/100\n",
            "39/39 - 1s - loss: 1.3177e-04 - val_loss: 1.7339e-04 - 1s/epoch - 35ms/step\n",
            "Epoch 91/100\n",
            "39/39 - 1s - loss: 1.3714e-04 - val_loss: 8.4629e-05 - 1s/epoch - 35ms/step\n",
            "Epoch 92/100\n",
            "39/39 - 1s - loss: 1.4193e-04 - val_loss: 7.8064e-05 - 1s/epoch - 36ms/step\n",
            "Epoch 93/100\n",
            "39/39 - 1s - loss: 1.3482e-04 - val_loss: 6.1119e-05 - 1s/epoch - 35ms/step\n",
            "Epoch 94/100\n",
            "39/39 - 1s - loss: 1.5332e-04 - val_loss: 5.7378e-05 - 1s/epoch - 36ms/step\n",
            "Epoch 95/100\n",
            "39/39 - 1s - loss: 1.2851e-04 - val_loss: 1.1600e-04 - 1s/epoch - 35ms/step\n",
            "Epoch 96/100\n",
            "39/39 - 1s - loss: 1.3845e-04 - val_loss: 6.5634e-05 - 1s/epoch - 35ms/step\n",
            "Epoch 97/100\n",
            "39/39 - 1s - loss: 1.3224e-04 - val_loss: 5.9208e-05 - 1s/epoch - 35ms/step\n",
            "Epoch 98/100\n",
            "39/39 - 1s - loss: 1.3560e-04 - val_loss: 5.6126e-05 - 1s/epoch - 35ms/step\n",
            "Epoch 99/100\n",
            "39/39 - 1s - loss: 1.3355e-04 - val_loss: 9.5233e-05 - 1s/epoch - 36ms/step\n",
            "Epoch 100/100\n",
            "39/39 - 1s - loss: 1.4013e-04 - val_loss: 8.7346e-05 - 1s/epoch - 36ms/step\n"
          ]
        }
      ]
    },
    {
      "cell_type": "code",
      "source": [
        "plt.plot(history.history['loss'])\n",
        "plt.plot(history.history['val_loss'])\n",
        "plt.title('model loss')\n",
        "plt.ylabel('loss')\n",
        "plt.xlabel('epochs')\n",
        "plt.legend(['train', 'validation'], loc='upper left')\n",
        "plt.show()"
      ],
      "metadata": {
        "colab": {
          "base_uri": "https://localhost:8080/",
          "height": 295
        },
        "id": "WeZmbXpBpu8u",
        "outputId": "c74d0da4-5c54-4e8b-8f16-fab22d0d7a83"
      },
      "execution_count": null,
      "outputs": [
        {
          "output_type": "display_data",
          "data": {
            "text/plain": [
              "<Figure size 432x288 with 1 Axes>"
            ],
            "image/png": "[encoded data removed]"
          },
          "metadata": {
            "needs_background": "light"
          }
        }
      ]
    },
    {
      "cell_type": "code",
      "source": [
        "train_predict = model.predict(x_train)\n",
        "test_predict = model.predict(x_test)\n",
        "\n",
        "train_predict_unnorm = scaler.inverse_transform(train_predict)\n",
        "test_predict_unnorm = scaler.inverse_transform(test_predict)\n",
        "#creating similar dataset to plot training predictions\n",
        "trainpredictPlot= np.empty_like(close_price)\n",
        "\n",
        "print(trainpredictPlot.shape)\n",
        "trainpredictPlot[look_back:len(train_predict_unnorm)+look_back, :] = train_predict_unnorm\n",
        "\n",
        "\n",
        "#creating similar dataset to plot test prediction\n",
        "testpredictPlot = np.empty_like(close_price)\n",
        "testpredictPlot[:, :] = np.nan \n",
        "#testpredictPlot[len(train_predict_unnorm)+(look_back*2)+30:len(close_price)-10, :] = test_predict_unnorm #30=1, 10=1\n",
        "testpredictPlot[len(train_predict_unnorm)+(look_back*2)+1:len(close_price)-1, :] = test_predict_unnorm #30=1, 10=1\n",
        "\n",
        "plt.figure(figsize=(19,10))\n",
        "plt.plot(close_price, 'g', label= 'original dataset')\n",
        "plt.plot(trainpredictPlot, 'r', label= 'training dataset')\n",
        "plt.plot(testpredictPlot, 'b', label= 'predicted and test')\n",
        "plt.legend(loc= 'upper left')\n",
        "plt.title(\"S&P500\")\n",
        "plt.xlabel('Time in days')\n",
        "plt.ylabel('price')\n",
        "plt.show()"
      ],
      "metadata": {
        "colab": {
          "base_uri": "https://localhost:8080/",
          "height": 638
        },
        "id": "Z68uRqfVqeSe",
        "outputId": "5ac6d8ad-e7bc-459d-d25b-f9182dc87100"
      },
      "execution_count": null,
      "outputs": [
        {
          "output_type": "stream",
          "name": "stdout",
          "text": [
            "(3936, 1)\n"
          ]
        },
        {
          "output_type": "display_data",
          "data": {
            "text/plain": [
              "<Figure size 1368x720 with 1 Axes>"
            ],
            "image/png": "[encoded data removed]"
          },
          "metadata": {
            "needs_background": "light"
          }
        }
      ]
    },
    {
      "cell_type": "code",
      "source": [
        "y_test1=y_test[26:]\n",
        "test_predict1=test_predict[26:]"
      ],
      "metadata": {
        "id": "E8peeTB7CAtT"
      },
      "execution_count": null,
      "outputs": []
    },
    {
      "cell_type": "code",
      "source": [
        "from sklearn.metrics import mean_absolute_percentage_error,mean_squared_error,max_error,r2_score\n",
        "# Mean Absolute Percentage Error (MAPE)\n",
        "e1 = mean_absolute_percentage_error(y_test, test_predict)\n",
        "e2 = mean_squared_error(y_test, test_predict)\n",
        "e3 = r2_score(y_test, test_predict)\n",
        "print(\"MAPE=\",e1)\n",
        "print(\"MSE=\",e2)\n",
        "print(\"r2_score=\",e3)"
      ],
      "metadata": {
        "colab": {
          "base_uri": "https://localhost:8080/"
        },
        "id": "_0Bj28ujPkRL",
        "outputId": "9cd02da7-e4e5-4384-fa40-29b593b7ebae"
      },
      "execution_count": null,
      "outputs": [
        {
          "output_type": "stream",
          "name": "stdout",
          "text": [
            "MAPE= 0.021458571917790832\n",
            "MSE= 0.00037252288372194585\n",
            "r2_score= 0.9831067859273993\n"
          ]
        }
      ]
    },
    {
      "cell_type": "code",
      "source": [
        "e1 = mean_absolute_percentage_error(y_test1, test_predict1)\n",
        "e2 = mean_squared_error(y_test1, test_predict1)\n",
        "e3 = r2_score(y_test1, test_predict1)\n",
        "print(\"MAPE=\",e1)\n",
        "print(\"MSE=\",e2)\n",
        "print(\"r2_score=\",e3)"
      ],
      "metadata": {
        "colab": {
          "base_uri": "https://localhost:8080/"
        },
        "id": "yVi3036fMfOG",
        "outputId": "4fc2159b-fed7-4f3d-9d7f-13406e2f6354"
      },
      "execution_count": null,
      "outputs": [
        {
          "output_type": "stream",
          "name": "stdout",
          "text": [
            "MAPE= 0.02164162486237775\n",
            "MSE= 0.00038181849912256546\n",
            "r2_score= 0.9821734143659795\n"
          ]
        }
      ]
    },
    {
      "cell_type": "code",
      "source": [
        "y_test.shape"
      ],
      "metadata": {
        "colab": {
          "base_uri": "https://localhost:8080/"
        },
        "id": "9Dn4ksY1brQQ",
        "outputId": "6114e408-3db7-4346-8a8b-807cbf7b87e0"
      },
      "execution_count": null,
      "outputs": [
        {
          "output_type": "execute_result",
          "data": {
            "text/plain": [
              "(757, 1)"
            ]
          },
          "metadata": {},
          "execution_count": 10
        }
      ]
    },
    {
      "cell_type": "code",
      "source": [
        "def MAPE(y_test, test_predict_unnorm): \n",
        "    y_true, y_pred = np.array(y_test), np.array(test_predict)\n",
        "    return np.mean(np.abs((y_test - test_predict) / y_test)) * 100"
      ],
      "metadata": {
        "id": "D_sXcIUIYDVQ"
      },
      "execution_count": null,
      "outputs": []
    },
    {
      "cell_type": "code",
      "source": [
        "from sklearn.metrics import mean_squared_error, mean_absolute_error\n",
        "mape=np.mean(np.abs(np.array(test_predict[:])-np.array(y_test))/np.abs(y_test))\n",
        "print('MAPE: '+str(mape))"
      ],
      "metadata": {
        "colab": {
          "base_uri": "https://localhost:8080/"
        },
        "id": "JCn9hFlaYZxZ",
        "outputId": "c0e53ecd-b774-4a45-db93-180a2f7c0c94"
      },
      "execution_count": null,
      "outputs": [
        {
          "output_type": "stream",
          "name": "stdout",
          "text": [
            "MAPE: 0.018374000474277175\n"
          ]
        }
      ]
    },
    {
      "cell_type": "code",
      "source": [
        "from google.colab import drive \n",
        "drive.mount('/content/gdrive')\n",
        "y= pd.DataFrame(test_predict_unnorm)\n",
        "y.to_excel(excel_writer=r'/content/gdrive/MyDrive/pythonexcel.xlsx')"
      ],
      "metadata": {
        "colab": {
          "base_uri": "https://localhost:8080/"
        },
        "id": "nor8e5RtQ_2S",
        "outputId": "32818cf6-64f8-4ebe-f59f-d589afd48a33"
      },
      "execution_count": null,
      "outputs": [
        {
          "output_type": "stream",
          "name": "stdout",
          "text": [
            "Mounted at /content/gdrive\n"
          ]
        }
      ]
    },
    {
      "cell_type": "code",
      "source": [
        "len(test_predict_unnorm)"
      ],
      "metadata": {
        "colab": {
          "base_uri": "https://localhost:8080/"
        },
        "id": "EFaWMQAfRsdt",
        "outputId": "2bef42e3-620c-4680-d030-3c1f52683ce2"
      },
      "execution_count": null,
      "outputs": [
        {
          "output_type": "execute_result",
          "data": {
            "text/plain": [
              "757"
            ]
          },
          "metadata": {},
          "execution_count": 11
        }
      ]
    },
    {
      "cell_type": "code",
      "source": [
        "real_values= dataset['Close'][-757:]\n",
        "y= pd.DataFrame(real_values)\n",
        "y.to_excel(excel_writer=r'/content/gdrive/MyDrive/arima.xlsx')"
      ],
      "metadata": {
        "id": "VYq5kP1ZRzC8"
      },
      "execution_count": null,
      "outputs": []
    }
  ]
}